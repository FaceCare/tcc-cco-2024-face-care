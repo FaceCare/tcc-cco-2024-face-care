{
 "cells": [
  {
   "cell_type": "code",
   "execution_count": 38,
   "metadata": {},
   "outputs": [
    {
     "name": "stdout",
     "output_type": "stream",
     "text": [
      "Erro ao fazer o upload do arquivo desktop.ini: Failed to upload C:\\Users\\italo\\Downloads\\test\\desktop.ini to acne-bucket/Acne/desktop.ini: An error occurred (InvalidAccessKeyId) when calling the PutObject operation: The AWS Access Key Id you provided does not exist in our records.\n",
      "Erro ao fazer o upload do arquivo rosacea-nose-6.jpg: Failed to upload C:\\Users\\italo\\Downloads\\test\\rosacea-nose-6.jpg to acne-bucket/Acne/rosacea-nose-6.jpg: An error occurred (InvalidAccessKeyId) when calling the PutObject operation: The AWS Access Key Id you provided does not exist in our records.\n"
     ]
    }
   ],
   "source": [
    "import boto3\n",
    "import os\n",
    "\n",
    "def upload_files_in_folder_to_s3(folder_path, bucket_name, s3_folder_name, aws_access_key_id, aws_secret_access_key, region_name):\n",
    "\n",
    "    s3 = boto3.client('s3', \n",
    "                      aws_access_key_id=aws_access_key_id, \n",
    "                      aws_secret_access_key=aws_secret_access_key, \n",
    "                      region_name=region_name)\n",
    "    \n",
    "    for file_name in os.listdir(folder_path):\n",
    "        file_path = os.path.join(folder_path, file_name)\n",
    "\n",
    "        if os.path.isfile(file_path):\n",
    "            # Construir a key S3 para o arquivo\n",
    "            s3_key = f\"{s3_folder_name}/{file_name}\"\n",
    "\n",
    "            try:\n",
    "                s3.upload_file(file_path, bucket_name, s3_key)\n",
    "                print(f\"Upload do arquivo {file_name} para {bucket_name}/{s3_key} concluído com sucesso.\")\n",
    "            except Exception as e:\n",
    "                print(f\"Erro ao fazer o upload do arquivo {file_name}: {e}\")\n",
    "\n",
    "\n",
    "folder_path = ''\n",
    "bucket_name = 'acne-bucket'\n",
    "s3_folder_name = 'Acne'\n",
    "aws_access_key_id = ''\n",
    "aws_secret_access_key = ''\n",
    "region_name = 'us-east-1'\n",
    "\n",
    "upload_files_in_folder_to_s3(folder_path, bucket_name, s3_folder_name, aws_access_key_id, aws_secret_access_key, region_name)"
   ]
  }
 ],
 "metadata": {
  "kernelspec": {
   "display_name": "Python 3",
   "language": "python",
   "name": "python3"
  },
  "language_info": {
   "codemirror_mode": {
    "name": "ipython",
    "version": 3
   },
   "file_extension": ".py",
   "mimetype": "text/x-python",
   "name": "python",
   "nbconvert_exporter": "python",
   "pygments_lexer": "ipython3",
   "version": "3.9.7"
  }
 },
 "nbformat": 4,
 "nbformat_minor": 2
}
