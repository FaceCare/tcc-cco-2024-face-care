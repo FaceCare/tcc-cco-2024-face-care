{
 "cells": [
  {
   "cell_type": "code",
   "execution_count": 14,
   "metadata": {},
   "outputs": [
    {
     "name": "stdout",
     "output_type": "stream",
     "text": [
      "Upload do arquivo requeriments.txt para tcc-dev-raw-bucket//requeriments.txt concluído com sucesso.\n"
     ]
    }
   ],
   "source": [
    "import boto3\n",
    "import os\n",
    "\n",
    "def upload_files_in_folder_to_s3(folder_path, bucket_name, s3_folder_name, region_name):\n",
    "    try:\n",
    "        my_session = boto3.session.Session(profile_name=\"default\", region_name=region_name)\n",
    "\n",
    "        credentials = my_session.get_credentials()\n",
    "        current_credentials = credentials.get_frozen_credentials()\n",
    "        print(\"Access Key:\", current_credentials.access_key)\n",
    "        print(\"Secret Key:\", current_credentials.secret_key)\n",
    "        \n",
    "        s3 = my_session.client('s3')\n",
    "\n",
    "        for file_name in os.listdir(folder_path):\n",
    "            file_path = os.path.join(folder_path, file_name)\n",
    "\n",
    "            if os.path.isfile(file_path):\n",
    "                \n",
    "                s3_key = f\"{s3_folder_name}/{file_name}\"\n",
    "\n",
    "                try:\n",
    "                    s3.upload_file(file_path, bucket_name, s3_key)\n",
    "                    print(f\"Upload do arquivo {file_name} para {bucket_name}/{s3_key} concluído com sucesso.\")\n",
    "                except Exception as e:\n",
    "                    print(f\"Erro ao fazer o upload do arquivo {file_name}: {e}\")\n",
    "    except Exception as e:\n",
    "        print(f\"Erro ao criar a sessão ou cliente S3: {e}\")\n",
    "\n",
    "folder_path = r'C:\\\\Users\\\\italo\\\\Downloads\\\\test'\n",
    "bucket_name = 'acne-bucket'\n",
    "s3_folder_name = 'Acne'\n",
    "region_name = 'us-east-1'\n",
    "\n",
    "upload_files_in_folder_to_s3(folder_path, bucket_name, s3_folder_name, region_name)"
   ]
  }
 ],
 "metadata": {
  "kernelspec": {
   "display_name": "Python 3",
   "language": "python",
   "name": "python3"
  },
  "language_info": {
   "codemirror_mode": {
    "name": "ipython",
    "version": 3
   },
   "file_extension": ".py",
   "mimetype": "text/x-python",
   "name": "python",
   "nbconvert_exporter": "python",
   "pygments_lexer": "ipython3",
   "version": "3.10.12"
  }
 },
 "nbformat": 4,
 "nbformat_minor": 2
}
