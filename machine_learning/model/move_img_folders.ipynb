{
 "cells": [
  {
   "cell_type": "code",
   "execution_count": 3,
   "metadata": {},
   "outputs": [],
   "source": [
    "import os\n",
    "import shutil"
   ]
  },
  {
   "cell_type": "code",
   "execution_count": 2,
   "metadata": {},
   "outputs": [],
   "source": [
    "folders_path = r'C:\\Users\\SETH\\Downloads\\archive\\lfw-funneled\\lfw_funneled'"
   ]
  },
  {
   "cell_type": "code",
   "execution_count": 4,
   "metadata": {},
   "outputs": [],
   "source": [
    "for item in os.listdir(folders_path):\n",
    "    if os.path.isdir(os.path.join(folders_path, item)):\n",
    "        imgs = [i for i in os.listdir(os.path.join(folders_path, item)) if i.endswith('.jpg')]\n",
    "        for img in imgs:\n",
    "            src = os.path.join(folders_path, item, img)\n",
    "            dst = rf'C:\\Users\\SETH\\Desktop\\GitHub\\tcc-cco-2024-face-care\\machine_learning\\data\\no_acne\\{img}'\n",
    "            shutil.copy(src, dst)"
   ]
  }
 ],
 "metadata": {
  "kernelspec": {
   "display_name": ".venv",
   "language": "python",
   "name": "python3"
  },
  "language_info": {
   "codemirror_mode": {
    "name": "ipython",
    "version": 3
   },
   "file_extension": ".py",
   "mimetype": "text/x-python",
   "name": "python",
   "nbconvert_exporter": "python",
   "pygments_lexer": "ipython3",
   "version": "3.10.11"
  }
 },
 "nbformat": 4,
 "nbformat_minor": 2
}
