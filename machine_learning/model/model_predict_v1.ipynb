{
 "cells": [
  {
   "cell_type": "code",
   "execution_count": 1,
   "metadata": {},
   "outputs": [
    {
     "name": "stderr",
     "output_type": "stream",
     "text": [
      "2024-05-21 20:33:53.116313: I external/local_tsl/tsl/cuda/cudart_stub.cc:32] Could not find cuda drivers on your machine, GPU will not be used.\n",
      "2024-05-21 20:33:53.189065: I external/local_tsl/tsl/cuda/cudart_stub.cc:32] Could not find cuda drivers on your machine, GPU will not be used.\n",
      "2024-05-21 20:33:53.511066: I tensorflow/core/platform/cpu_feature_guard.cc:210] This TensorFlow binary is optimized to use available CPU instructions in performance-critical operations.\n",
      "To enable the following instructions: AVX2 FMA, in other operations, rebuild TensorFlow with the appropriate compiler flags.\n",
      "2024-05-21 20:33:54.635883: W tensorflow/compiler/tf2tensorrt/utils/py_utils.cc:38] TF-TRT Warning: Could not find TensorRT\n"
     ]
    }
   ],
   "source": [
    "import numpy as np\n",
    "import os\n",
    "from skimage.io import imread\n",
    "from skimage.transform import resize\n",
    "from skimage.feature import hog\n",
    "from sklearn.model_selection import train_test_split\n",
    "from sklearn.svm import SVC\n",
    "from sklearn.metrics import accuracy_score\n",
    "import cv2\n",
    "import tensorflow as tf"
   ]
  },
  {
   "cell_type": "code",
   "execution_count": null,
   "metadata": {},
   "outputs": [],
   "source": [
    "def load_data(data_dir, img_size=(128, 128)):\n",
    "    labels = []\n",
    "    features = []\n",
    "    for label in ['acne', 'no_acne']:\n",
    "        folder = os.path.join(data_dir, label)\n",
    "        for file in os.listdir(folder):\n",
    "            img_path = os.path.join(folder, file)\n",
    "            img = imread(img_path)\n",
    "            img_resized = resize(img, img_size)\n",
    "            hog_features = hog(img_resized, pixels_per_cell=(8, 8), cells_per_block=(2, 2), visualize=False, channel_axis=-1)\n",
    "            features.append(hog_features)\n",
    "            labels.append(0 if label == 'no_acne' else 1)\n",
    "    return np.array(features), np.array(labels)"
   ]
  },
  {
   "cell_type": "code",
   "execution_count": 2,
   "metadata": {},
   "outputs": [
    {
     "name": "stdout",
     "output_type": "stream",
     "text": [
      "Accuracy: 99.77%\n"
     ]
    }
   ],
   "source": [
    "# Carregar dados\n",
    "data_dir = r'c:\\Users\\SETH\\Desktop\\GitHub\\modelo_ml_tcc'\n",
    "X, y = load_data(data_dir)\n",
    "\n",
    "# Dividir os dados em conjuntos de treino e teste\n",
    "X_train, X_test, y_train, y_test = train_test_split(X, y, test_size=0.2, random_state=42)\n",
    "\n",
    "# Treinar um classificador SVM\n",
    "clf = SVC(kernel='linear')\n",
    "clf.fit(X_train, y_train)\n",
    "\n",
    "# Avaliar o modelo\n",
    "y_pred = clf.predict(X_test)\n",
    "accuracy = accuracy_score(y_test, y_pred)\n",
    "print(f'Accuracy: {accuracy * 100:.2f}%')"
   ]
  },
  {
   "cell_type": "code",
   "execution_count": null,
   "metadata": {},
   "outputs": [],
   "source": [
    "def predict_image(image_path, model, img_size=(128, 128)):\n",
    "    img = imread(image_path)\n",
    "    img_resized = resize(img, img_size)\n",
    "    hog_features = hog(img_resized, pixels_per_cell=(8, 8), cells_per_block=(2, 2), visualize=False, channel_axis=-1)\n",
    "    hog_features = np.array(hog_features).reshape(1, -1)\n",
    "    prediction = model.predict(hog_features)\n",
    "    if prediction[0] == 1:\n",
    "        print(\"Espinha detectada\")\n",
    "    else:\n",
    "        print(\"Sem espinha\")"
   ]
  },
  {
   "cell_type": "code",
   "execution_count": 3,
   "metadata": {},
   "outputs": [
    {
     "name": "stdout",
     "output_type": "stream",
     "text": [
      "Espinha detectada\n"
     ]
    }
   ],
   "source": [
    "predict_image(r'c:\\Users\\SETH\\Desktop\\GitHub\\modelo_ml_tcc\\predict_img\\rosto_com_cne.jpg', clf)"
   ]
  },
  {
   "cell_type": "code",
   "execution_count": 4,
   "metadata": {},
   "outputs": [
    {
     "name": "stdout",
     "output_type": "stream",
     "text": [
      "Sem espinha\n"
     ]
    }
   ],
   "source": [
    "predict_image(r'c:\\Users\\SETH\\Desktop\\GitHub\\modelo_ml_tcc\\predict_img\\capa-3.webp', clf)"
   ]
  },
  {
   "cell_type": "code",
   "execution_count": 22,
   "metadata": {},
   "outputs": [
    {
     "name": "stdout",
     "output_type": "stream",
     "text": [
      "Espinha detectada\n"
     ]
    }
   ],
   "source": [
    "predict_image(r'c:\\Users\\SETH\\Desktop\\GitHub\\modelo_ml_tcc\\predict_img\\rosto_1_acne.jpg', clf)"
   ]
  },
  {
   "cell_type": "code",
   "execution_count": 2,
   "metadata": {},
   "outputs": [],
   "source": [
    "import os\n",
    "import numpy as np\n",
    "from skimage.io import imread\n",
    "from skimage.transform import resize\n",
    "from skimage.feature import hog\n",
    "from sklearn.svm import SVC\n",
    "from sklearn.model_selection import train_test_split\n",
    "from sklearn.metrics import accuracy_score\n",
    "import joblib"
   ]
  },
  {
   "cell_type": "code",
   "execution_count": 3,
   "metadata": {},
   "outputs": [
    {
     "ename": "ValueError",
     "evalue": "Only images with two spatial dimensions are supported. If using with color/multichannel images, specify `channel_axis`.",
     "output_type": "error",
     "traceback": [
      "\u001b[0;31m---------------------------------------------------------------------------\u001b[0m",
      "\u001b[0;31mValueError\u001b[0m                                Traceback (most recent call last)",
      "Cell \u001b[0;32mIn[3], line 18\u001b[0m\n\u001b[1;32m     16\u001b[0m \u001b[38;5;66;03m# Carregar dados\u001b[39;00m\n\u001b[1;32m     17\u001b[0m data_dir \u001b[38;5;241m=\u001b[39m \u001b[38;5;124mr\u001b[39m\u001b[38;5;124m'\u001b[39m\u001b[38;5;124msvm\u001b[39m\u001b[38;5;124m'\u001b[39m\n\u001b[0;32m---> 18\u001b[0m X, y \u001b[38;5;241m=\u001b[39m \u001b[43mload_data\u001b[49m\u001b[43m(\u001b[49m\u001b[43mdata_dir\u001b[49m\u001b[43m)\u001b[49m\n\u001b[1;32m     20\u001b[0m \u001b[38;5;66;03m# Dividir os dados em conjuntos de treino e teste\u001b[39;00m\n\u001b[1;32m     21\u001b[0m X_train, X_test, y_train, y_test \u001b[38;5;241m=\u001b[39m train_test_split(X, y, test_size\u001b[38;5;241m=\u001b[39m\u001b[38;5;241m0.2\u001b[39m, random_state\u001b[38;5;241m=\u001b[39m\u001b[38;5;241m42\u001b[39m)\n",
      "Cell \u001b[0;32mIn[3], line 11\u001b[0m, in \u001b[0;36mload_data\u001b[0;34m(data_dir, img_size)\u001b[0m\n\u001b[1;32m      9\u001b[0m img \u001b[38;5;241m=\u001b[39m imread(img_path)\n\u001b[1;32m     10\u001b[0m img_resized \u001b[38;5;241m=\u001b[39m resize(img, img_size)\n\u001b[0;32m---> 11\u001b[0m hog_features \u001b[38;5;241m=\u001b[39m \u001b[43mhog\u001b[49m\u001b[43m(\u001b[49m\u001b[43mimg_resized\u001b[49m\u001b[43m,\u001b[49m\u001b[43m \u001b[49m\u001b[43mpixels_per_cell\u001b[49m\u001b[38;5;241;43m=\u001b[39;49m\u001b[43m(\u001b[49m\u001b[38;5;241;43m8\u001b[39;49m\u001b[43m,\u001b[49m\u001b[43m \u001b[49m\u001b[38;5;241;43m8\u001b[39;49m\u001b[43m)\u001b[49m\u001b[43m,\u001b[49m\u001b[43m \u001b[49m\u001b[43mcells_per_block\u001b[49m\u001b[38;5;241;43m=\u001b[39;49m\u001b[43m(\u001b[49m\u001b[38;5;241;43m2\u001b[39;49m\u001b[43m,\u001b[49m\u001b[43m \u001b[49m\u001b[38;5;241;43m2\u001b[39;49m\u001b[43m)\u001b[49m\u001b[43m,\u001b[49m\u001b[43m \u001b[49m\u001b[43mvisualize\u001b[49m\u001b[38;5;241;43m=\u001b[39;49m\u001b[38;5;28;43;01mFalse\u001b[39;49;00m\u001b[43m,\u001b[49m\u001b[43m \u001b[49m\u001b[43mchannel_axis\u001b[49m\u001b[38;5;241;43m=\u001b[39;49m\u001b[38;5;241;43m-\u001b[39;49m\u001b[38;5;241;43m1\u001b[39;49m\u001b[43m)\u001b[49m\n\u001b[1;32m     12\u001b[0m features\u001b[38;5;241m.\u001b[39mappend(hog_features)\n\u001b[1;32m     13\u001b[0m labels\u001b[38;5;241m.\u001b[39mappend(\u001b[38;5;241m0\u001b[39m \u001b[38;5;28;01mif\u001b[39;00m label \u001b[38;5;241m==\u001b[39m \u001b[38;5;124m'\u001b[39m\u001b[38;5;124mSemAcne\u001b[39m\u001b[38;5;124m'\u001b[39m \u001b[38;5;28;01melse\u001b[39;00m \u001b[38;5;241m1\u001b[39m)\n",
      "File \u001b[0;32m~/Desktop/tcc-cco-2024-face-care/machine_learning/model/.venv/lib/python3.10/site-packages/skimage/_shared/utils.py:449\u001b[0m, in \u001b[0;36mchannel_as_last_axis.__call__.<locals>.fixed_func\u001b[0;34m(*args, **kwargs)\u001b[0m\n\u001b[1;32m    446\u001b[0m     \u001b[38;5;28;01mraise\u001b[39;00m \u001b[38;5;167;01mValueError\u001b[39;00m(\u001b[38;5;124m\"\u001b[39m\u001b[38;5;124monly a single channel axis is currently supported\u001b[39m\u001b[38;5;124m\"\u001b[39m)\n\u001b[1;32m    448\u001b[0m \u001b[38;5;28;01mif\u001b[39;00m channel_axis \u001b[38;5;241m==\u001b[39m (\u001b[38;5;241m-\u001b[39m\u001b[38;5;241m1\u001b[39m,) \u001b[38;5;129;01mor\u001b[39;00m channel_axis \u001b[38;5;241m==\u001b[39m \u001b[38;5;241m-\u001b[39m\u001b[38;5;241m1\u001b[39m:\n\u001b[0;32m--> 449\u001b[0m     \u001b[38;5;28;01mreturn\u001b[39;00m \u001b[43mfunc\u001b[49m\u001b[43m(\u001b[49m\u001b[38;5;241;43m*\u001b[39;49m\u001b[43margs\u001b[49m\u001b[43m,\u001b[49m\u001b[43m \u001b[49m\u001b[38;5;241;43m*\u001b[39;49m\u001b[38;5;241;43m*\u001b[39;49m\u001b[43mkwargs\u001b[49m\u001b[43m)\u001b[49m\n\u001b[1;32m    451\u001b[0m \u001b[38;5;28;01mif\u001b[39;00m \u001b[38;5;28mself\u001b[39m\u001b[38;5;241m.\u001b[39marg_positions:\n\u001b[1;32m    452\u001b[0m     new_args \u001b[38;5;241m=\u001b[39m []\n",
      "File \u001b[0;32m~/Desktop/tcc-cco-2024-face-care/machine_learning/model/.venv/lib/python3.10/site-packages/skimage/feature/_hog.py:171\u001b[0m, in \u001b[0;36mhog\u001b[0;34m(image, orientations, pixels_per_cell, cells_per_block, block_norm, visualize, transform_sqrt, feature_vector, channel_axis)\u001b[0m\n\u001b[1;32m    169\u001b[0m ndim_spatial \u001b[38;5;241m=\u001b[39m image\u001b[38;5;241m.\u001b[39mndim \u001b[38;5;241m-\u001b[39m \u001b[38;5;241m1\u001b[39m \u001b[38;5;28;01mif\u001b[39;00m multichannel \u001b[38;5;28;01melse\u001b[39;00m image\u001b[38;5;241m.\u001b[39mndim\n\u001b[1;32m    170\u001b[0m \u001b[38;5;28;01mif\u001b[39;00m ndim_spatial \u001b[38;5;241m!=\u001b[39m \u001b[38;5;241m2\u001b[39m:\n\u001b[0;32m--> 171\u001b[0m     \u001b[38;5;28;01mraise\u001b[39;00m \u001b[38;5;167;01mValueError\u001b[39;00m(\n\u001b[1;32m    172\u001b[0m         \u001b[38;5;124m'\u001b[39m\u001b[38;5;124mOnly images with two spatial dimensions are \u001b[39m\u001b[38;5;124m'\u001b[39m\n\u001b[1;32m    173\u001b[0m         \u001b[38;5;124m'\u001b[39m\u001b[38;5;124msupported. If using with color/multichannel \u001b[39m\u001b[38;5;124m'\u001b[39m\n\u001b[1;32m    174\u001b[0m         \u001b[38;5;124m'\u001b[39m\u001b[38;5;124mimages, specify `channel_axis`.\u001b[39m\u001b[38;5;124m'\u001b[39m\n\u001b[1;32m    175\u001b[0m     )\n\u001b[1;32m    177\u001b[0m \u001b[38;5;250m\u001b[39m\u001b[38;5;124;03m\"\"\"\u001b[39;00m\n\u001b[1;32m    178\u001b[0m \u001b[38;5;124;03mThe first stage applies an optional global image normalization\u001b[39;00m\n\u001b[1;32m    179\u001b[0m \u001b[38;5;124;03mequalisation that is designed to reduce the influence of illumination\u001b[39;00m\n\u001b[0;32m   (...)\u001b[0m\n\u001b[1;32m    184\u001b[0m \u001b[38;5;124;03mshadowing and illumination variations.\u001b[39;00m\n\u001b[1;32m    185\u001b[0m \u001b[38;5;124;03m\"\"\"\u001b[39;00m\n\u001b[1;32m    187\u001b[0m \u001b[38;5;28;01mif\u001b[39;00m transform_sqrt:\n",
      "\u001b[0;31mValueError\u001b[0m: Only images with two spatial dimensions are supported. If using with color/multichannel images, specify `channel_axis`."
     ]
    }
   ],
   "source": [
    "# Função para carregar imagens e extrair características HOG\n",
    "def load_data(data_dir, img_size=(128, 128)):\n",
    "    labels = []\n",
    "    features = []\n",
    "    for label in ['Acne', 'SemAcne']:\n",
    "        folder = os.path.join(data_dir, label)\n",
    "        for file in os.listdir(folder):\n",
    "            img_path = os.path.join(folder, file)\n",
    "            img = imread(img_path)\n",
    "            img_resized = resize(img, img_size)\n",
    "            hog_features = hog(img_resized, pixels_per_cell=(8, 8), cells_per_block=(2, 2), visualize=False, channel_axis=-1)\n",
    "            features.append(hog_features)\n",
    "            labels.append(0 if label == 'SemAcne' else 1)\n",
    "    return np.array(features), np.array(labels)\n",
    "\n",
    "# Carregar dados\n",
    "data_dir = r'svm'\n",
    "X, y = load_data(data_dir)\n",
    "\n",
    "# Dividir os dados em conjuntos de treino e teste\n",
    "X_train, X_test, y_train, y_test = train_test_split(X, y, test_size=0.2, random_state=42)\n",
    "\n",
    "# Treinar um classificador SVM\n",
    "clf = SVC(kernel='linear')\n",
    "clf.fit(X_train, y_train)\n",
    "\n",
    "# Avaliar o modelo\n",
    "y_pred = clf.predict(X_test)\n",
    "accuracy = accuracy_score(y_test, y_pred)\n",
    "print(f'Accuracy: {accuracy * 100:.2f}%')\n",
    "\n",
    "# Salvar o modelo\n",
    "model_path = 'svm_model.pkl'\n",
    "joblib.dump(clf, model_path)\n",
    "print(f'Modelo salvo em {model_path}')"
   ]
  },
  {
   "cell_type": "code",
   "execution_count": 7,
   "metadata": {},
   "outputs": [
    {
     "name": "stdout",
     "output_type": "stream",
     "text": [
      "Sem espinha\n"
     ]
    }
   ],
   "source": [
    "# Função para fazer predições em novas imagens\n",
    "def predict_image(image_path, model_path, img_size=(128, 128)):\n",
    "    # Carregar o modelo salvo\n",
    "    model = joblib.load(model_path)\n",
    "    \n",
    "    # Processar a imagem\n",
    "    img = imread(image_path)\n",
    "    img_resized = resize(img, img_size)\n",
    "    hog_features = hog(img_resized, pixels_per_cell=(8, 8), cells_per_block=(2, 2), visualize=False, channel_axis=-1)\n",
    "    hog_features = np.array(hog_features).reshape(1, -1)\n",
    "    \n",
    "    # Fazer predição\n",
    "    prediction = model.predict(hog_features)\n",
    "    if prediction[0] == 1:\n",
    "        print(\"Espinha detectada\")\n",
    "    else:\n",
    "        print(\"Sem espinha\")\n",
    "\n",
    "# Exemplo de uso da função predict_image\n",
    "image_path = r'c:\\Users\\SETH\\Desktop\\GitHub\\modelo_ml_tcc\\predict_img\\capa-3.webp'\n",
    "model_path = 'svm_model.pkl'\n",
    "predict_image(image_path, model_path)"
   ]
  },
  {
   "cell_type": "code",
   "execution_count": 9,
   "metadata": {},
   "outputs": [
    {
     "name": "stdout",
     "output_type": "stream",
     "text": [
      "Arquivo ./svm_model.pkl carregado com sucesso para tcc-dev-saved-model-bucket/svm_model.pkl\n"
     ]
    }
   ],
   "source": [
    "import boto3\n",
    "\n",
    "# Configurar a sessão padrão do boto3\n",
    "boto3.setup_default_session(profile_name='faculdade')\n",
    "\n",
    "# Função para fazer upload do arquivo para S3\n",
    "def upload_to_s3(file_path, bucket_name, s3_file_key):\n",
    "    s3 = boto3.client('s3')\n",
    "    s3.upload_file(file_path, bucket_name, s3_file_key)\n",
    "    print(f'Arquivo {file_path} carregado com sucesso para {bucket_name}/{s3_file_key}')\n",
    "\n",
    "\n",
    "# Parâmetros para o upload\n",
    "file_path = './svm_model.pkl'  # Substitua pelo caminho do seu arquivo\n",
    "bucket_name = 'tcc-dev-saved-model-bucket'         # Substitua pelo nome do seu bucket S3\n",
    "s3_file_key = 'svm_model.pkl'  # Substitua pelo caminho desejado no bucket S3\n",
    "\n",
    "# Fazer upload do arquivo para o S3\n",
    "upload_to_s3(file_path, bucket_name, s3_file_key)\n"
   ]
  }
 ],
 "metadata": {
  "kernelspec": {
   "display_name": ".venv",
   "language": "python",
   "name": "python3"
  },
  "language_info": {
   "codemirror_mode": {
    "name": "ipython",
    "version": 3
   },
   "file_extension": ".py",
   "mimetype": "text/x-python",
   "name": "python",
   "nbconvert_exporter": "python",
   "pygments_lexer": "ipython3",
   "version": "3.10.11"
  }
 },
 "nbformat": 4,
 "nbformat_minor": 2
}
