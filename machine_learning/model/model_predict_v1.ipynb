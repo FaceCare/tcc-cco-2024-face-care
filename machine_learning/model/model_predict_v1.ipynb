{
 "cells": [
  {
   "cell_type": "code",
   "execution_count": 1,
   "metadata": {},
   "outputs": [],
   "source": [
    "import numpy as np\n",
    "import os\n",
    "from skimage.io import imread\n",
    "from skimage.transform import resize\n",
    "from skimage.feature import hog\n",
    "from sklearn.model_selection import train_test_split\n",
    "from sklearn.svm import SVC\n",
    "from sklearn.metrics import accuracy_score\n",
    "import cv2\n",
    "import tensorflow as tf"
   ]
  },
  {
   "cell_type": "code",
   "execution_count": 2,
   "metadata": {},
   "outputs": [
    {
     "name": "stdout",
     "output_type": "stream",
     "text": [
      "Accuracy: 99.77%\n"
     ]
    }
   ],
   "source": [
    "# Função para carregar imagens e extrair características HOG\n",
    "def load_data(data_dir, img_size=(128, 128)):\n",
    "    labels = []\n",
    "    features = []\n",
    "    for label in ['acne', 'no_acne']:\n",
    "        folder = os.path.join(data_dir, label)\n",
    "        for file in os.listdir(folder):\n",
    "            img_path = os.path.join(folder, file)\n",
    "            img = imread(img_path)\n",
    "            img_resized = resize(img, img_size)\n",
    "            hog_features = hog(img_resized, pixels_per_cell=(8, 8), cells_per_block=(2, 2), visualize=False, channel_axis=-1)\n",
    "            features.append(hog_features)\n",
    "            labels.append(0 if label == 'no_acne' else 1)\n",
    "    return np.array(features), np.array(labels)\n",
    "\n",
    "# Carregar dados\n",
    "data_dir = r'c:\\Users\\SETH\\Desktop\\GitHub\\modelo_ml_tcc'\n",
    "X, y = load_data(data_dir)\n",
    "\n",
    "# Dividir os dados em conjuntos de treino e teste\n",
    "X_train, X_test, y_train, y_test = train_test_split(X, y, test_size=0.2, random_state=42)\n",
    "\n",
    "# Treinar um classificador SVM\n",
    "clf = SVC(kernel='linear')\n",
    "clf.fit(X_train, y_train)\n",
    "\n",
    "# Avaliar o modelo\n",
    "y_pred = clf.predict(X_test)\n",
    "accuracy = accuracy_score(y_test, y_pred)\n",
    "print(f'Accuracy: {accuracy * 100:.2f}%')\n",
    "\n",
    "# Função para fazer predições em novas imagens\n",
    "def predict_image(image_path, model, img_size=(128, 128)):\n",
    "    img = imread(image_path)\n",
    "    img_resized = resize(img, img_size)\n",
    "    hog_features = hog(img_resized, pixels_per_cell=(8, 8), cells_per_block=(2, 2), visualize=False, channel_axis=-1)\n",
    "    hog_features = np.array(hog_features).reshape(1, -1)\n",
    "    prediction = model.predict(hog_features)\n",
    "    if prediction[0] == 1:\n",
    "        print(\"Espinha detectada\")\n",
    "    else:\n",
    "        print(\"Sem espinha\")"
   ]
  },
  {
   "cell_type": "code",
   "execution_count": 3,
   "metadata": {},
   "outputs": [
    {
     "name": "stdout",
     "output_type": "stream",
     "text": [
      "Espinha detectada\n"
     ]
    }
   ],
   "source": [
    "predict_image(r'c:\\Users\\SETH\\Desktop\\GitHub\\modelo_ml_tcc\\predict_img\\rosto_com_cne.jpg', clf)"
   ]
  },
  {
   "cell_type": "code",
   "execution_count": 4,
   "metadata": {},
   "outputs": [
    {
     "name": "stdout",
     "output_type": "stream",
     "text": [
      "Sem espinha\n"
     ]
    }
   ],
   "source": [
    "predict_image(r'c:\\Users\\SETH\\Desktop\\GitHub\\modelo_ml_tcc\\predict_img\\capa-3.webp', clf)"
   ]
  },
  {
   "cell_type": "code",
   "execution_count": 22,
   "metadata": {},
   "outputs": [
    {
     "name": "stdout",
     "output_type": "stream",
     "text": [
      "Espinha detectada\n"
     ]
    }
   ],
   "source": [
    "predict_image(r'c:\\Users\\SETH\\Desktop\\GitHub\\modelo_ml_tcc\\predict_img\\rosto_1_acne.jpg', clf)"
   ]
  },
  {
   "cell_type": "code",
   "execution_count": 5,
   "metadata": {},
   "outputs": [],
   "source": [
    "import os\n",
    "import numpy as np\n",
    "from skimage.io import imread\n",
    "from skimage.transform import resize\n",
    "from skimage.feature import hog\n",
    "from sklearn.svm import SVC\n",
    "from sklearn.model_selection import train_test_split\n",
    "from sklearn.metrics import accuracy_score\n",
    "import joblib"
   ]
  },
  {
   "cell_type": "code",
   "execution_count": 6,
   "metadata": {},
   "outputs": [
    {
     "name": "stdout",
     "output_type": "stream",
     "text": [
      "Accuracy: 99.77%\n",
      "Modelo salvo em svm_model.pkl\n"
     ]
    }
   ],
   "source": [
    "# Função para carregar imagens e extrair características HOG\n",
    "def load_data(data_dir, img_size=(128, 128)):\n",
    "    labels = []\n",
    "    features = []\n",
    "    for label in ['acne', 'no_acne']:\n",
    "        folder = os.path.join(data_dir, label)\n",
    "        for file in os.listdir(folder):\n",
    "            img_path = os.path.join(folder, file)\n",
    "            img = imread(img_path)\n",
    "            img_resized = resize(img, img_size)\n",
    "            hog_features = hog(img_resized, pixels_per_cell=(8, 8), cells_per_block=(2, 2), visualize=False, channel_axis=-1)\n",
    "            features.append(hog_features)\n",
    "            labels.append(0 if label == 'no_acne' else 1)\n",
    "    return np.array(features), np.array(labels)\n",
    "\n",
    "# Carregar dados\n",
    "data_dir = r'c:\\Users\\SETH\\Desktop\\GitHub\\modelo_ml_tcc'\n",
    "X, y = load_data(data_dir)\n",
    "\n",
    "# Dividir os dados em conjuntos de treino e teste\n",
    "X_train, X_test, y_train, y_test = train_test_split(X, y, test_size=0.2, random_state=42)\n",
    "\n",
    "# Treinar um classificador SVM\n",
    "clf = SVC(kernel='linear')\n",
    "clf.fit(X_train, y_train)\n",
    "\n",
    "# Avaliar o modelo\n",
    "y_pred = clf.predict(X_test)\n",
    "accuracy = accuracy_score(y_test, y_pred)\n",
    "print(f'Accuracy: {accuracy * 100:.2f}%')\n",
    "\n",
    "# Salvar o modelo\n",
    "model_path = 'svm_model.pkl'\n",
    "joblib.dump(clf, model_path)\n",
    "print(f'Modelo salvo em {model_path}')"
   ]
  },
  {
   "cell_type": "code",
   "execution_count": 7,
   "metadata": {},
   "outputs": [
    {
     "name": "stdout",
     "output_type": "stream",
     "text": [
      "Sem espinha\n"
     ]
    }
   ],
   "source": [
    "# Função para fazer predições em novas imagens\n",
    "def predict_image(image_path, model_path, img_size=(128, 128)):\n",
    "    # Carregar o modelo salvo\n",
    "    model = joblib.load(model_path)\n",
    "    \n",
    "    # Processar a imagem\n",
    "    img = imread(image_path)\n",
    "    img_resized = resize(img, img_size)\n",
    "    hog_features = hog(img_resized, pixels_per_cell=(8, 8), cells_per_block=(2, 2), visualize=False, channel_axis=-1)\n",
    "    hog_features = np.array(hog_features).reshape(1, -1)\n",
    "    \n",
    "    # Fazer predição\n",
    "    prediction = model.predict(hog_features)\n",
    "    if prediction[0] == 1:\n",
    "        print(\"Espinha detectada\")\n",
    "    else:\n",
    "        print(\"Sem espinha\")\n",
    "\n",
    "# Exemplo de uso da função predict_image\n",
    "image_path = r'c:\\Users\\SETH\\Desktop\\GitHub\\modelo_ml_tcc\\predict_img\\capa-3.webp'\n",
    "model_path = 'svm_model.pkl'\n",
    "predict_image(image_path, model_path)"
   ]
  },
  {
   "cell_type": "code",
   "execution_count": 9,
   "metadata": {},
   "outputs": [
    {
     "name": "stdout",
     "output_type": "stream",
     "text": [
      "Arquivo ./svm_model.pkl carregado com sucesso para tcc-dev-saved-model-bucket/svm_model.pkl\n"
     ]
    }
   ],
   "source": [
    "import boto3\n",
    "\n",
    "# Configurar a sessão padrão do boto3\n",
    "boto3.setup_default_session(profile_name='faculdade')\n",
    "\n",
    "# Função para fazer upload do arquivo para S3\n",
    "def upload_to_s3(file_path, bucket_name, s3_file_key):\n",
    "    s3 = boto3.client('s3')\n",
    "    s3.upload_file(file_path, bucket_name, s3_file_key)\n",
    "    print(f'Arquivo {file_path} carregado com sucesso para {bucket_name}/{s3_file_key}')\n",
    "\n",
    "\n",
    "# Parâmetros para o upload\n",
    "file_path = './svm_model.pkl'  # Substitua pelo caminho do seu arquivo\n",
    "bucket_name = 'tcc-dev-saved-model-bucket'         # Substitua pelo nome do seu bucket S3\n",
    "s3_file_key = 'svm_model.pkl'  # Substitua pelo caminho desejado no bucket S3\n",
    "\n",
    "# Fazer upload do arquivo para o S3\n",
    "upload_to_s3(file_path, bucket_name, s3_file_key)\n"
   ]
  }
 ],
 "metadata": {
  "kernelspec": {
   "display_name": ".venv",
   "language": "python",
   "name": "python3"
  },
  "language_info": {
   "codemirror_mode": {
    "name": "ipython",
    "version": 3
   },
   "file_extension": ".py",
   "mimetype": "text/x-python",
   "name": "python",
   "nbconvert_exporter": "python",
   "pygments_lexer": "ipython3",
   "version": "3.10.11"
  }
 },
 "nbformat": 4,
 "nbformat_minor": 2
}
