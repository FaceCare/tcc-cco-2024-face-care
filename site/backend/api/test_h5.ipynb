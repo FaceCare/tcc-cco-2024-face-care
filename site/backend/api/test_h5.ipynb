{
 "cells": [
  {
   "cell_type": "code",
   "execution_count": 2,
   "metadata": {},
   "outputs": [
    {
     "name": "stderr",
     "output_type": "stream",
     "text": [
      "2024-08-01 17:05:12.979802: W external/local_tsl/tsl/framework/cpu_allocator_impl.cc:83] Allocation of 260112384 exceeds 10% of free system memory.\n",
      "WARNING:absl:Compiled the loaded model, but the compiled metrics have yet to be built. `model.compile_metrics` will be empty until you train or evaluate the model.\n"
     ]
    },
    {
     "name": "stdout",
     "output_type": "stream",
     "text": [
      "\u001b[1m1/1\u001b[0m \u001b[32m━━━━━━━━━━━━━━━━━━━━\u001b[0m\u001b[37m\u001b[0m \u001b[1m0s\u001b[0m 260ms/step\n",
      "Predictions: [[0.15634096 0.27587634 0.14630558 0.29987958 0.1215976 ]]\n",
      "Predicted class index: [3]\n",
      "Classe prevista: Severidade 3\n"
     ]
    }
   ],
   "source": [
    "import tensorflow as tf\n",
    "from tensorflow import keras\n",
    "import numpy as np\n",
    "from PIL import Image\n",
    "\n",
    "# Função para pré-processar a imagem\n",
    "def preprocess_image(image_path):\n",
    "    img = Image.open(image_path).convert('RGB')  # Garantir que a imagem está em RGB\n",
    "    img = img.resize((512, 512))  # Redimensionar para 512x512\n",
    "    img_array = np.array(img)\n",
    "    img_array = np.expand_dims(img_array, axis=0)  # Adicionar uma dimensão para o batch\n",
    "    return img_array  # Não precisamos normalizar aqui, pois a camada Rescaling fará isso\n",
    "\n",
    "\n",
    "# Caminho para a imagem que você deseja classificar\n",
    "image_path = './10.jpg'\n",
    "\n",
    "# Classes que o modelo pode prever\n",
    "class_names = ['Severidade 0', 'Severidade 1', 'Severidade 2', 'Severidade 3', 'Severidade 4']\n",
    "\n",
    "# Carregar o modelo salvo\n",
    "def softmax_v2(x):\n",
    "    return tf.nn.softmax(x)\n",
    "\n",
    "tf.keras.utils.get_custom_objects().update({'softmax_v2': tf.keras.layers.Activation(softmax_v2)})\n",
    "\n",
    "# Carregar o modelo salvo com a função de ativação personalizada\n",
    "model = tf.keras.models.load_model('modelo.h5', custom_objects={'softmax_v2': softmax_v2})\n",
    "\n",
    "\n",
    "# Pré-processar a imagem\n",
    "image = preprocess_image(image_path)\n",
    "\n",
    "# Fazer a previsão\n",
    "predictions = model.predict(image)\n",
    "print(f'Predictions: {predictions}')\n",
    "\n",
    "# Obter a classe prevista\n",
    "predicted_class = np.argmax(predictions, axis=1)\n",
    "print(f'Predicted class index: {predicted_class}')\n",
    "\n",
    "# Mostrar o resultado\n",
    "print(f'Classe prevista: {class_names[predicted_class[0]]}')\n"
   ]
  },
  {
   "cell_type": "code",
   "execution_count": null,
   "metadata": {},
   "outputs": [],
   "source": []
  }
 ],
 "metadata": {
  "kernelspec": {
   "display_name": ".venv",
   "language": "python",
   "name": "python3"
  },
  "language_info": {
   "codemirror_mode": {
    "name": "ipython",
    "version": 3
   },
   "file_extension": ".py",
   "mimetype": "text/x-python",
   "name": "python",
   "nbconvert_exporter": "python",
   "pygments_lexer": "ipython3",
   "version": "3.10.12"
  }
 },
 "nbformat": 4,
 "nbformat_minor": 2
}
